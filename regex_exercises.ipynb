{
 "cells": [
  {
   "cell_type": "code",
   "execution_count": 1,
   "id": "c6093466-fa8a-40c6-8ba0-4921b856223f",
   "metadata": {},
   "outputs": [],
   "source": [
    "import pandas as pd\n",
    "import numpy as np\n",
    "import re"
   ]
  },
  {
   "cell_type": "markdown",
   "id": "bc7f32c8-4182-47b6-af2b-e5019218379b",
   "metadata": {},
   "source": [
    "# Regex Exercises"
   ]
  },
  {
   "cell_type": "markdown",
   "id": "bad1ff4f-0820-4ef9-b741-59d0d964982d",
   "metadata": {},
   "source": [
    "## 1. Write a function named is_vowel. It should accept a string as input and use a regular expression to determine if the passed string is a vowel. While not explicity mentioned in the lesson, you can treat the result of re.search as a boolean value that indicates whether or not the regular expression matches the given string."
   ]
  },
  {
   "cell_type": "code",
   "execution_count": 2,
   "id": "07128a67-5db5-46c2-83d2-28b9b069fc35",
   "metadata": {},
   "outputs": [
    {
     "name": "stdout",
     "output_type": "stream",
     "text": [
      "True\n",
      "True\n",
      "False\n"
     ]
    }
   ],
   "source": [
    "def is_vowel(string):\n",
    "    pattern = r'^[aeiouAEIOU]$'\n",
    "    match = re.search(pattern, string)\n",
    "    return bool(match)\n",
    "\n",
    "# Test the function\n",
    "print(is_vowel('a'))  # True\n",
    "print(is_vowel('E'))  # True\n",
    "print(is_vowel('x'))  # False"
   ]
  },
  {
   "cell_type": "code",
   "execution_count": 5,
   "id": "8ceeadfa-ac43-41f5-bd42-632cc2fc85b3",
   "metadata": {},
   "outputs": [
    {
     "data": {
      "text/plain": [
       "False"
      ]
     },
     "execution_count": 5,
     "metadata": {},
     "output_type": "execute_result"
    }
   ],
   "source": [
    "is_vowel('ee')"
   ]
  },
  {
   "cell_type": "markdown",
   "id": "1843fcff-99e9-48e8-8cc1-2e4cf0489f18",
   "metadata": {},
   "source": [
    "## 2. Write a function named is_valid_username that accepts a string as input. A valid username starts with a lowercase letter, and only consists of lowercase letters, numbers, or the _ character. It should also be no longer than 32 characters. The function should return either True or False depending on whether the passed string is a valid username."
   ]
  },
  {
   "cell_type": "code",
   "execution_count": 12,
   "id": "18af7bff-29ee-4bda-8c3e-53786e4c216f",
   "metadata": {},
   "outputs": [],
   "source": [
    "def is_valid_username(username):\n",
    "    '''\n",
    "    ccepts a string as input. A valid username starts with a lowercase letter, and only consists of lowercase letters, numbers,\n",
    "    or the _ character. It should also be no longer than 32 characters. The function should return either True or False depending on \n",
    "    whether the passed string is a valid username\n",
    "    '''\n",
    "    pattern = r'^[a-z][a-z0-9_]{0,31}$'\n",
    "    match = re.search(pattern, username)\n",
    "    return bool(match)\n"
   ]
  },
  {
   "cell_type": "code",
   "execution_count": 13,
   "id": "8f27b870-bbab-497c-92fe-24b8f840bd43",
   "metadata": {},
   "outputs": [
    {
     "name": "stdout",
     "output_type": "stream",
     "text": [
      "False\n",
      "False\n",
      "True\n",
      "True\n",
      "False\n",
      "False\n",
      "False\n"
     ]
    }
   ],
   "source": [
    "print(is_valid_username('aaaaaaaaaaaaā'))\n",
    "print(is_valid_username('11111aaaassssKKKK22222'))\n",
    "print(is_valid_username('alpha_bit_soup_123'))\n",
    "print(is_valid_username('john_doe123'))  # True\n",
    "print(is_valid_username('JaneSmith'))    # False (starts with uppercase)\n",
    "print(is_valid_username('user_name_with_more_than_32_characters'))  # False (exceeds 32 characters)\n",
    "print(is_valid_username('user@name'))    # False (contains invalid character)"
   ]
  },
  {
   "cell_type": "markdown",
   "id": "32e3aee2-b422-474a-b1da-d4d243989f88",
   "metadata": {},
   "source": [
    "## 3. Write a regular expression to capture phone numbers. It should match all of the following\n",
    "\n",
    "(210) 867 5309<br>\n",
    "+1 210.867.5309<br>\n",
    "867-5309<br>\n",
    "210-867-5309<br>\n"
   ]
  },
  {
   "cell_type": "code",
   "execution_count": 17,
   "id": "b50cdb10-840f-4a0f-9ef0-981523c0ec63",
   "metadata": {},
   "outputs": [],
   "source": [
    "phone_numbers = '''\n",
    "(210) 867 5309\n",
    "+1 210.867.5309\n",
    "867-5309\n",
    "210-867-5309\n",
    "(706)414-9980\n",
    "'''"
   ]
  },
  {
   "cell_type": "code",
   "execution_count": 16,
   "id": "768dc069-1c69-483c-9e60-697979f44826",
   "metadata": {},
   "outputs": [
    {
     "name": "stdout",
     "output_type": "stream",
     "text": [
      "['(210) 867 5309', '210.867.5309', '210-867-5309', '(706)414-6630']\n"
     ]
    }
   ],
   "source": [
    "pattern = r'\\(?\\d{3}\\)?[-.\\s]?\\d{3}[-.\\s]?\\d{4}'\n",
    "\n",
    "matches = re.findall(pattern, phone_numbers)\n",
    "\n",
    "print(matches)"
   ]
  },
  {
   "cell_type": "markdown",
   "id": "664858ee-f7e5-4ac4-ae06-0cbd46792582",
   "metadata": {},
   "source": [
    "## 4. Use regular expressions to convert the dates below to the standardized year-month-day format.\n",
    "\n",
    "02/04/19<br>\n",
    "02/05/19<br>\n",
    "02/06/19<br>\n",
    "02/07/19<br>\n",
    "02/08/19<br>\n",
    "02/09/19<br>\n",
    "02/10/19<br>\n",
    "\n"
   ]
  },
  {
   "cell_type": "code",
   "execution_count": 20,
   "id": "0a27e58b-fc44-4f90-99cd-83753575712a",
   "metadata": {},
   "outputs": [],
   "source": [
    "dates = '''\n",
    "02/04/19\n",
    "02/05/19\n",
    "02/06/19\n",
    "02/07/19\n",
    "02/08/19\n",
    "02/09/19\n",
    "02/10/19\n",
    "'''"
   ]
  },
  {
   "cell_type": "code",
   "execution_count": 21,
   "id": "0b25d2ef-da61-4417-b620-69f85273bebd",
   "metadata": {},
   "outputs": [
    {
     "name": "stdout",
     "output_type": "stream",
     "text": [
      "\n",
      "2019-02-04\n",
      "2019-02-05\n",
      "2019-02-06\n",
      "2019-02-07\n",
      "2019-02-08\n",
      "2019-02-09\n",
      "2019-02-10\n",
      "\n"
     ]
    }
   ],
   "source": [
    "pattern = r'(\\d{2})/(\\d{2})/(\\d{2})'\n",
    "\n",
    "formatted_dates = re.sub(pattern, r'20\\3-\\1-\\2', dates)\n",
    "\n",
    "print(formatted_dates)"
   ]
  },
  {
   "cell_type": "markdown",
   "id": "4046cb68-5938-4fce-a53f-83fcf3818154",
   "metadata": {},
   "source": [
    "## 5. Write a regex to extract the various parts of these logfile lines:\n",
    "GET /api/v1/sales?page=86 [16/Apr/2019:193452+0000] HTTP/1.1 {200} 510348 \"python-requests/2.21.0\" 97.105.19.58<br>\n",
    "POST /users_accounts/file-upload [16/Apr/2019:193452+0000] HTTP/1.1 {201} 42 \"User-Agent: Mozilla/5.0 (X11; Fedora; Fedora; Linux x86_64) AppleWebKit/537.36 (KHTML, like Gecko) Chrome/73.0.3683.86 Safari/537.36\" 97.105.19.58<br>\n",
    "GET /api/v1/items?page=3 [16/Apr/2019:193453+0000] HTTP/1.1 {429} 3561 \"python-requests/2.21.0\" 97.105.19.58"
   ]
  },
  {
   "cell_type": "markdown",
   "id": "6654c3f9-5e09-4382-a6b0-e1ec6ad1166e",
   "metadata": {},
   "source": [
    "GET ---- http type\n",
    "\n",
    "/api/v1/sales?page=86  ---- endpoint\n",
    "\n",
    "[16/Apr/2019:193452+0000] ---- time stamp\n",
    "\n",
    "HTTP/1.1 {200} ---- status code\n",
    "\n",
    "510348 --- size of returned info in bytes\n",
    "\n",
    "\"python-requests/2.21.0\" --- user agent\n",
    "\n",
    "97.105.19.58 ----- ip address\n"
   ]
  },
  {
   "cell_type": "code",
   "execution_count": 22,
   "id": "7b940931-9ccc-49aa-9571-7efc7df9b319",
   "metadata": {},
   "outputs": [],
   "source": [
    "log_lines = '''\n",
    "GET /api/v1/sales?page=86 [16/Apr/2019:193452+0000] HTTP/1.1 {200} 510348 \"python-requests/2.21.0\" 97.105.19.58\n",
    "POST /users_accounts/file-upload [16/Apr/2019:193452+0000] HTTP/1.1 {201} 42 \"User-Agent: Mozilla/5.0 (X11; Fedora; Fedora; Linux x86_64) AppleWebKit/537.36 (KHTML, like Gecko) Chrome/73.0.3683.86 Safari/537.36\" 97.105.19.58\n",
    "GET /api/v1/items?page=3 [16/Apr/2019:193453+0000] HTTP/1.1 {429} 3561 \"python-requests/2.21.0\" 97.105.19.58\n",
    "'''"
   ]
  },
  {
   "cell_type": "code",
   "execution_count": 23,
   "id": "1b1646eb-4af9-4fb7-9648-499a200918b5",
   "metadata": {},
   "outputs": [
    {
     "name": "stdout",
     "output_type": "stream",
     "text": [
      "HTTP Method: GET\n",
      "Endpoint: /api/v1/sales?page=86\n",
      "Timestamp: 16/Apr/2019:193452+0000\n",
      "Status Code: 200\n",
      "Response Size: 510348\n",
      "User Agent: python-requests/2.21.0\n",
      "IP Address: 97.105.19.58\n",
      "\n",
      "HTTP Method: POST\n",
      "Endpoint: /users_accounts/file-upload\n",
      "Timestamp: 16/Apr/2019:193452+0000\n",
      "Status Code: 201\n",
      "Response Size: 42\n",
      "User Agent: User-Agent: Mozilla/5.0 (X11; Fedora; Fedora; Linux x86_64) AppleWebKit/537.36 (KHTML, like Gecko) Chrome/73.0.3683.86 Safari/537.36\n",
      "IP Address: 97.105.19.58\n",
      "\n",
      "HTTP Method: GET\n",
      "Endpoint: /api/v1/items?page=3\n",
      "Timestamp: 16/Apr/2019:193453+0000\n",
      "Status Code: 429\n",
      "Response Size: 3561\n",
      "User Agent: python-requests/2.21.0\n",
      "IP Address: 97.105.19.58\n",
      "\n"
     ]
    }
   ],
   "source": [
    "pattern = r'^(GET|POST)\\s(.*?)\\s\\[(.*?)\\]\\sHTTP/1\\.1\\s\\{(.*?)\\}\\s(.*?)\\s\"(.*?)\"\\s(.*?)$'\n",
    "\n",
    "matches = re.findall(pattern, log_lines, re.MULTILINE)\n",
    "\n",
    "for match in matches:\n",
    "    http_method = match[0]\n",
    "    endpoint = match[1]\n",
    "    timestamp = match[2]\n",
    "    status_code = match[3]\n",
    "    response_size = match[4]\n",
    "    user_agent = match[5]\n",
    "    ip_address = match[6]\n",
    "\n",
    "    print(\"HTTP Method:\", http_method)\n",
    "    print(\"Endpoint:\", endpoint)\n",
    "    print(\"Timestamp:\", timestamp)\n",
    "    print(\"Status Code:\", status_code)\n",
    "    print(\"Response Size:\", response_size)\n",
    "    print(\"User Agent:\", user_agent)\n",
    "    print(\"IP Address:\", ip_address)\n",
    "    print()"
   ]
  },
  {
   "cell_type": "code",
   "execution_count": 26,
   "id": "45799f76-2522-43f3-abe2-d64ee0cd18d5",
   "metadata": {},
   "outputs": [
    {
     "data": {
      "text/html": [
       "<div>\n",
       "<style scoped>\n",
       "    .dataframe tbody tr th:only-of-type {\n",
       "        vertical-align: middle;\n",
       "    }\n",
       "\n",
       "    .dataframe tbody tr th {\n",
       "        vertical-align: top;\n",
       "    }\n",
       "\n",
       "    .dataframe thead th {\n",
       "        text-align: right;\n",
       "    }\n",
       "</style>\n",
       "<table border=\"1\" class=\"dataframe\">\n",
       "  <thead>\n",
       "    <tr style=\"text-align: right;\">\n",
       "      <th></th>\n",
       "      <th>http_method</th>\n",
       "      <th>endpoint</th>\n",
       "      <th>timestamp</th>\n",
       "      <th>status_code</th>\n",
       "      <th>bytes</th>\n",
       "      <th>user_agent</th>\n",
       "      <th>ip_address</th>\n",
       "    </tr>\n",
       "  </thead>\n",
       "  <tbody>\n",
       "    <tr>\n",
       "      <th>0</th>\n",
       "      <td>GET</td>\n",
       "      <td>/api/v1/sales?page=86</td>\n",
       "      <td>16/Apr/2019:193452+0000</td>\n",
       "      <td>200</td>\n",
       "      <td>510348</td>\n",
       "      <td>python-requests/2.21.0</td>\n",
       "      <td>97.105.19.58</td>\n",
       "    </tr>\n",
       "    <tr>\n",
       "      <th>1</th>\n",
       "      <td>POST</td>\n",
       "      <td>/users_accounts/file-upload</td>\n",
       "      <td>16/Apr/2019:193452+0000</td>\n",
       "      <td>201</td>\n",
       "      <td>42</td>\n",
       "      <td>User-Agent: Mozilla/5.0 (X11; Fedora; Fedora; ...</td>\n",
       "      <td>97.105.19.58</td>\n",
       "    </tr>\n",
       "    <tr>\n",
       "      <th>2</th>\n",
       "      <td>GET</td>\n",
       "      <td>/api/v1/items?page=3</td>\n",
       "      <td>16/Apr/2019:193453+0000</td>\n",
       "      <td>429</td>\n",
       "      <td>3561</td>\n",
       "      <td>python-requests/2.21.0</td>\n",
       "      <td>97.105.19.58</td>\n",
       "    </tr>\n",
       "  </tbody>\n",
       "</table>\n",
       "</div>"
      ],
      "text/plain": [
       "  http_method                     endpoint                timestamp  \\\n",
       "0         GET        /api/v1/sales?page=86  16/Apr/2019:193452+0000   \n",
       "1        POST  /users_accounts/file-upload  16/Apr/2019:193452+0000   \n",
       "2         GET         /api/v1/items?page=3  16/Apr/2019:193453+0000   \n",
       "\n",
       "  status_code   bytes                                         user_agent  \\\n",
       "0         200  510348                             python-requests/2.21.0   \n",
       "1         201      42  User-Agent: Mozilla/5.0 (X11; Fedora; Fedora; ...   \n",
       "2         429    3561                             python-requests/2.21.0   \n",
       "\n",
       "     ip_address  \n",
       "0  97.105.19.58  \n",
       "1  97.105.19.58  \n",
       "2  97.105.19.58  "
      ]
     },
     "execution_count": 26,
     "metadata": {},
     "output_type": "execute_result"
    }
   ],
   "source": [
    "data = []\n",
    "columns = ['http_method', 'endpoint', 'timestamp', 'status_code', 'bytes', 'user_agent', 'ip_address']\n",
    "\n",
    "for match in matches:\n",
    "    data.append(list(match))\n",
    "\n",
    "df = pd.DataFrame(data, columns=columns)\n",
    "\n",
    "df"
   ]
  },
  {
   "cell_type": "code",
   "execution_count": 29,
   "id": "07fd63d5-d384-449b-ad4d-2e4d95ca1e54",
   "metadata": {},
   "outputs": [],
   "source": [
    "def datalog_break_down(pattern,log_lines):\n",
    "    ''' \n",
    "    this function breaks down the parts of a data access log to its components and returns a df\n",
    "    log_lines must be defined to go into function ex: but with thier own triple quote marks \"'\"\n",
    "    log_lines =\n",
    "        GET /api/v1/sales?page=86 [16/Apr/2019:193452+0000] HTTP/1.1 {200} 510348 \"python-requests/2.21.0\" 97.105.19.58\n",
    "        POST /users_accounts/file-upload [16/Apr/2019:193452+0000] HTTP/1.1 {201} 42 \"User-Agent: Mozilla/5.0 (X11; Fedora; Fedora; Linux x86_64) AppleWebKit/537.36 (KHTML, like Gecko) Chrome/73.0.3683.86 Safari/537.36\" 97.105.19.58\n",
    "        GET /api/v1/items?page=3 [16/Apr/2019:193453+0000] HTTP/1.1 {429} 3561 \"python-requests/2.21.0\" 97.105.19.58\n",
    "\n",
    "    '''\n",
    "    # Defining the regex pattern of access log\n",
    "    pattern = r'^(GET|POST)\\s(.*?)\\s\\[(.*?)\\]\\sHTTP/1\\.1\\s\\{(.*?)\\}\\s(.*?)\\s\"(.*?)\"\\s(.*?)$'\n",
    "    matches = re.findall(pattern, log_lines, re.MULTILINE)\n",
    "    # looping for components\n",
    "    for match in matches:\n",
    "        http_method = match[0]\n",
    "        endpoint = match[1]\n",
    "        timestamp = match[2]\n",
    "        status_code = match[3]\n",
    "        response_size = match[4]\n",
    "        user_agent = match[5]\n",
    "        ip_address = match[6]\n",
    "    #empty database to fill\n",
    "    data = []\n",
    "    #naming columns\n",
    "    columns = ['http_method', 'endpoint', 'timestamp', 'status_code', 'bytes', 'user_agent', 'ip_address']\n",
    "    # looping into dataframe\n",
    "    for match in matches:\n",
    "        data.append(list(match))\n",
    "    \n",
    "    df = pd.DataFrame(data, columns=columns)\n",
    "    \n",
    "    return df"
   ]
  },
  {
   "cell_type": "code",
   "execution_count": 28,
   "id": "d77a842d-8449-4e8c-a501-e4f6eef783bf",
   "metadata": {},
   "outputs": [
    {
     "data": {
      "text/html": [
       "<div>\n",
       "<style scoped>\n",
       "    .dataframe tbody tr th:only-of-type {\n",
       "        vertical-align: middle;\n",
       "    }\n",
       "\n",
       "    .dataframe tbody tr th {\n",
       "        vertical-align: top;\n",
       "    }\n",
       "\n",
       "    .dataframe thead th {\n",
       "        text-align: right;\n",
       "    }\n",
       "</style>\n",
       "<table border=\"1\" class=\"dataframe\">\n",
       "  <thead>\n",
       "    <tr style=\"text-align: right;\">\n",
       "      <th></th>\n",
       "      <th>http_method</th>\n",
       "      <th>endpoint</th>\n",
       "      <th>timestamp</th>\n",
       "      <th>status_code</th>\n",
       "      <th>bytes</th>\n",
       "      <th>user_agent</th>\n",
       "      <th>ip_address</th>\n",
       "    </tr>\n",
       "  </thead>\n",
       "  <tbody>\n",
       "    <tr>\n",
       "      <th>0</th>\n",
       "      <td>GET</td>\n",
       "      <td>/api/v1/sales?page=86</td>\n",
       "      <td>16/Apr/2019:193452+0000</td>\n",
       "      <td>200</td>\n",
       "      <td>510348</td>\n",
       "      <td>python-requests/2.21.0</td>\n",
       "      <td>97.105.19.58</td>\n",
       "    </tr>\n",
       "    <tr>\n",
       "      <th>1</th>\n",
       "      <td>POST</td>\n",
       "      <td>/users_accounts/file-upload</td>\n",
       "      <td>16/Apr/2019:193452+0000</td>\n",
       "      <td>201</td>\n",
       "      <td>42</td>\n",
       "      <td>User-Agent: Mozilla/5.0 (X11; Fedora; Fedora; ...</td>\n",
       "      <td>97.105.19.58</td>\n",
       "    </tr>\n",
       "    <tr>\n",
       "      <th>2</th>\n",
       "      <td>GET</td>\n",
       "      <td>/api/v1/items?page=3</td>\n",
       "      <td>16/Apr/2019:193453+0000</td>\n",
       "      <td>429</td>\n",
       "      <td>3561</td>\n",
       "      <td>python-requests/2.21.0</td>\n",
       "      <td>97.105.19.58</td>\n",
       "    </tr>\n",
       "  </tbody>\n",
       "</table>\n",
       "</div>"
      ],
      "text/plain": [
       "  http_method                     endpoint                timestamp  \\\n",
       "0         GET        /api/v1/sales?page=86  16/Apr/2019:193452+0000   \n",
       "1        POST  /users_accounts/file-upload  16/Apr/2019:193452+0000   \n",
       "2         GET         /api/v1/items?page=3  16/Apr/2019:193453+0000   \n",
       "\n",
       "  status_code   bytes                                         user_agent  \\\n",
       "0         200  510348                             python-requests/2.21.0   \n",
       "1         201      42  User-Agent: Mozilla/5.0 (X11; Fedora; Fedora; ...   \n",
       "2         429    3561                             python-requests/2.21.0   \n",
       "\n",
       "     ip_address  \n",
       "0  97.105.19.58  \n",
       "1  97.105.19.58  \n",
       "2  97.105.19.58  "
      ]
     },
     "execution_count": 28,
     "metadata": {},
     "output_type": "execute_result"
    }
   ],
   "source": [
    "datalog_break_down(pattern,log_lines)"
   ]
  },
  {
   "cell_type": "code",
   "execution_count": 30,
   "id": "e7adc3bf-dbd5-4d9e-ad51-42fb2f2cca6d",
   "metadata": {},
   "outputs": [
    {
     "data": {
      "text/html": [
       "<div>\n",
       "<style scoped>\n",
       "    .dataframe tbody tr th:only-of-type {\n",
       "        vertical-align: middle;\n",
       "    }\n",
       "\n",
       "    .dataframe tbody tr th {\n",
       "        vertical-align: top;\n",
       "    }\n",
       "\n",
       "    .dataframe thead th {\n",
       "        text-align: right;\n",
       "    }\n",
       "</style>\n",
       "<table border=\"1\" class=\"dataframe\">\n",
       "  <thead>\n",
       "    <tr style=\"text-align: right;\">\n",
       "      <th></th>\n",
       "      <th>http_method</th>\n",
       "      <th>endpoint</th>\n",
       "      <th>timestamp</th>\n",
       "      <th>status_code</th>\n",
       "      <th>bytes</th>\n",
       "      <th>user_agent</th>\n",
       "      <th>ip_address</th>\n",
       "    </tr>\n",
       "  </thead>\n",
       "  <tbody>\n",
       "    <tr>\n",
       "      <th>0</th>\n",
       "      <td>GET</td>\n",
       "      <td>/api/v1/sales?page=86</td>\n",
       "      <td>16/Apr/2019:193452+0000</td>\n",
       "      <td>200</td>\n",
       "      <td>510348</td>\n",
       "      <td>python-requests/2.21.0</td>\n",
       "      <td>97.105.19.58</td>\n",
       "    </tr>\n",
       "    <tr>\n",
       "      <th>1</th>\n",
       "      <td>POST</td>\n",
       "      <td>/users_accounts/file-upload</td>\n",
       "      <td>16/Apr/2019:193452+0000</td>\n",
       "      <td>201</td>\n",
       "      <td>42</td>\n",
       "      <td>User-Agent: Mozilla/5.0 (X11; Fedora; Fedora; ...</td>\n",
       "      <td>97.105.19.58</td>\n",
       "    </tr>\n",
       "    <tr>\n",
       "      <th>2</th>\n",
       "      <td>GET</td>\n",
       "      <td>/api/v1/items?page=3</td>\n",
       "      <td>16/Apr/2019:193453+0000</td>\n",
       "      <td>429</td>\n",
       "      <td>3561</td>\n",
       "      <td>python-requests/2.21.0</td>\n",
       "      <td>97.105.19.58</td>\n",
       "    </tr>\n",
       "  </tbody>\n",
       "</table>\n",
       "</div>"
      ],
      "text/plain": [
       "  http_method                     endpoint                timestamp  \\\n",
       "0         GET        /api/v1/sales?page=86  16/Apr/2019:193452+0000   \n",
       "1        POST  /users_accounts/file-upload  16/Apr/2019:193452+0000   \n",
       "2         GET         /api/v1/items?page=3  16/Apr/2019:193453+0000   \n",
       "\n",
       "  status_code   bytes                                         user_agent  \\\n",
       "0         200  510348                             python-requests/2.21.0   \n",
       "1         201      42  User-Agent: Mozilla/5.0 (X11; Fedora; Fedora; ...   \n",
       "2         429    3561                             python-requests/2.21.0   \n",
       "\n",
       "     ip_address  \n",
       "0  97.105.19.58  \n",
       "1  97.105.19.58  \n",
       "2  97.105.19.58  "
      ]
     },
     "execution_count": 30,
     "metadata": {},
     "output_type": "execute_result"
    }
   ],
   "source": [
    "datalog_break_down(pattern,log_lines)"
   ]
  },
  {
   "cell_type": "code",
   "execution_count": null,
   "id": "1833d30e-aa00-4377-a227-14025083b60b",
   "metadata": {},
   "outputs": [],
   "source": []
  }
 ],
 "metadata": {
  "kernelspec": {
   "display_name": "Python 3 (ipykernel)",
   "language": "python",
   "name": "python3"
  },
  "language_info": {
   "codemirror_mode": {
    "name": "ipython",
    "version": 3
   },
   "file_extension": ".py",
   "mimetype": "text/x-python",
   "name": "python",
   "nbconvert_exporter": "python",
   "pygments_lexer": "ipython3",
   "version": "3.9.13"
  }
 },
 "nbformat": 4,
 "nbformat_minor": 5
}
